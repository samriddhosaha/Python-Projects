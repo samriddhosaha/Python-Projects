{
 "cells": [
  {
   "cell_type": "code",
   "execution_count": 1,
   "metadata": {},
   "outputs": [],
   "source": [
    "import os, shutil"
   ]
  },
  {
   "cell_type": "code",
   "execution_count": 5,
   "metadata": {},
   "outputs": [],
   "source": [
    "path = r\"C:/Users/samrsaha/Documents/Portfolio Project/New folder/Misc\""
   ]
  },
  {
   "cell_type": "code",
   "execution_count": 6,
   "metadata": {},
   "outputs": [],
   "source": [
    "file_name = os.listdir(path)"
   ]
  },
  {
   "cell_type": "code",
   "execution_count": 12,
   "metadata": {},
   "outputs": [
    {
     "data": {
      "text/plain": [
       "'folder_names = [\"Docs\", \"PPT\", \"Jupyter Notebook\"]\\n\\nfor i in range(0,3):\\n    if not os.path.exists(path + \"/\" + folder_names[i]):\\n        os.makedirs(path + \"/\" + folder_names[i])\\n\\nfor file in file_name:\\n    if file.endswith(\".docx\") or file.endswith(\".pdf\"):\\n        shutil.move(path + \"/\" + file, path + \"/Docs\")\\n    elif file.endswith(\".pptx\"):\\n        shutil.move(path + \"/\" + file, path + \"/PPT\")\\n    elif file.endswith(\".ipynb\"):\\n        shutil.move(path + \"/\" + file, path + \"/Jupyter Notebook\")'"
      ]
     },
     "execution_count": 12,
     "metadata": {},
     "output_type": "execute_result"
    }
   ],
   "source": [
    "\"\"\"folder_names = [\"Docs\", \"PPT\", \"Jupyter Notebook\"]\n",
    "\n",
    "for i in range(0,3):\n",
    "    if not os.path.exists(path + \"/\" + folder_names[i]):\n",
    "        os.makedirs(path + \"/\" + folder_names[i])\n",
    "\n",
    "for file in file_name:\n",
    "    if file.endswith(\".docx\") or file.endswith(\".pdf\"):\n",
    "        shutil.move(path + \"/\" + file, path + \"/Docs\")\n",
    "    elif file.endswith(\".pptx\"):\n",
    "        shutil.move(path + \"/\" + file, path + \"/PPT\")\n",
    "    elif file.endswith(\".ipynb\"):\n",
    "        shutil.move(path + \"/\" + file, path + \"/Jupyter Notebook\")\"\"\""
   ]
  },
  {
   "cell_type": "markdown",
   "metadata": {},
   "source": [
    "Alternate Logic:"
   ]
  },
  {
   "cell_type": "code",
   "execution_count": 11,
   "metadata": {},
   "outputs": [],
   "source": [
    "folder_names = [\"Docs\", \"PPT\", \"Jupyter Notebook\"]\n",
    "\n",
    "for i in range(0,3):\n",
    "    if not os.path.exists(path + \"/\" + folder_names[i]):\n",
    "        os.makedirs(path + \"/\" + folder_names[i])\n",
    "\n",
    "for file in file_name:\n",
    "    if \".docx\" in file and not os.path.exists(path + \"Docs/\" + file):\n",
    "        shutil.move(path + \"/\" + file, path + \"/Docs\")\n",
    "    elif \".pdf\" in file and not os.path.exists(path + \"Docs/\" + file):\n",
    "        shutil.move(path + \"/\" + file, path + \"/Docs\")\n",
    "    elif \".pptx\" in file and not os.path.exists(path + \"PPT/\" + file):\n",
    "        shutil.move(path + \"/\" + file, path + \"/PPT\")\n",
    "    elif \".ipynb\" in file and not os.path.exists(path + \"Jupyter Notebook/\" + file):\n",
    "        shutil.move(path + \"/\" + file, path + \"/Jupyter Notebook\")"
   ]
  }
 ],
 "metadata": {
  "kernelspec": {
   "display_name": "Python 3",
   "language": "python",
   "name": "python3"
  },
  "language_info": {
   "codemirror_mode": {
    "name": "ipython",
    "version": 3
   },
   "file_extension": ".py",
   "mimetype": "text/x-python",
   "name": "python",
   "nbconvert_exporter": "python",
   "pygments_lexer": "ipython3",
   "version": "3.12.2"
  }
 },
 "nbformat": 4,
 "nbformat_minor": 2
}
